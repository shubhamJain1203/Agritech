{
  "nbformat": 4,
  "nbformat_minor": 0,
  "metadata": {
    "colab": {
      "name": "Untitled0.ipynb",
      "provenance": [],
      "collapsed_sections": []
    },
    "kernelspec": {
      "name": "python3",
      "display_name": "Python 3"
    },
    "language_info": {
      "name": "python"
    }
  },
  "cells": [
    {
      "cell_type": "code",
      "metadata": {
        "colab": {
          "base_uri": "https://localhost:8080/"
        },
        "id": "lzB_YrFFqZUc",
        "outputId": "4381d411-6a01-41ba-9478-361f0db836b9"
      },
      "source": [
        "!pip install requests==2.22.0 beautifulsoup4==4.8.1"
      ],
      "execution_count": 1,
      "outputs": [
        {
          "output_type": "stream",
          "text": [
            "Collecting requests==2.22.0\n",
            "\u001b[?25l  Downloading https://files.pythonhosted.org/packages/51/bd/23c926cd341ea6b7dd0b2a00aba99ae0f828be89d72b2190f27c11d4b7fb/requests-2.22.0-py2.py3-none-any.whl (57kB)\n",
            "\u001b[K     |████████████████████████████████| 61kB 3.1MB/s \n",
            "\u001b[?25hCollecting beautifulsoup4==4.8.1\n",
            "\u001b[?25l  Downloading https://files.pythonhosted.org/packages/3b/c8/a55eb6ea11cd7e5ac4bacdf92bac4693b90d3ba79268be16527555e186f0/beautifulsoup4-4.8.1-py3-none-any.whl (101kB)\n",
            "\u001b[K     |████████████████████████████████| 102kB 4.6MB/s \n",
            "\u001b[?25hRequirement already satisfied: chardet<3.1.0,>=3.0.2 in /usr/local/lib/python3.7/dist-packages (from requests==2.22.0) (3.0.4)\n",
            "Requirement already satisfied: urllib3!=1.25.0,!=1.25.1,<1.26,>=1.21.1 in /usr/local/lib/python3.7/dist-packages (from requests==2.22.0) (1.24.3)\n",
            "Collecting idna<2.9,>=2.5\n",
            "\u001b[?25l  Downloading https://files.pythonhosted.org/packages/14/2c/cd551d81dbe15200be1cf41cd03869a46fe7226e7450af7a6545bfc474c9/idna-2.8-py2.py3-none-any.whl (58kB)\n",
            "\u001b[K     |████████████████████████████████| 61kB 6.7MB/s \n",
            "\u001b[?25hRequirement already satisfied: certifi>=2017.4.17 in /usr/local/lib/python3.7/dist-packages (from requests==2.22.0) (2020.12.5)\n",
            "Collecting soupsieve>=1.2\n",
            "  Downloading https://files.pythonhosted.org/packages/36/69/d82d04022f02733bf9a72bc3b96332d360c0c5307096d76f6bb7489f7e57/soupsieve-2.2.1-py3-none-any.whl\n",
            "\u001b[31mERROR: google-colab 1.0.0 has requirement requests~=2.23.0, but you'll have requests 2.22.0 which is incompatible.\u001b[0m\n",
            "\u001b[31mERROR: datascience 0.10.6 has requirement folium==0.2.1, but you'll have folium 0.8.3 which is incompatible.\u001b[0m\n",
            "Installing collected packages: idna, requests, soupsieve, beautifulsoup4\n",
            "  Found existing installation: idna 2.10\n",
            "    Uninstalling idna-2.10:\n",
            "      Successfully uninstalled idna-2.10\n",
            "  Found existing installation: requests 2.23.0\n",
            "    Uninstalling requests-2.23.0:\n",
            "      Successfully uninstalled requests-2.23.0\n",
            "  Found existing installation: beautifulsoup4 4.6.3\n",
            "    Uninstalling beautifulsoup4-4.6.3:\n",
            "      Successfully uninstalled beautifulsoup4-4.6.3\n",
            "Successfully installed beautifulsoup4-4.8.1 idna-2.8 requests-2.22.0 soupsieve-2.2.1\n"
          ],
          "name": "stdout"
        }
      ]
    },
    {
      "cell_type": "code",
      "metadata": {
        "colab": {
          "base_uri": "https://localhost:8080/"
        },
        "id": "LtRQfG6Nft56",
        "outputId": "b8b82a24-2a4a-4a60-af49-4fb8865cb852"
      },
      "source": [
        "!pip install requests"
      ],
      "execution_count": 2,
      "outputs": [
        {
          "output_type": "stream",
          "text": [
            "Requirement already satisfied: requests in /usr/local/lib/python3.7/dist-packages (2.22.0)\n",
            "Requirement already satisfied: certifi>=2017.4.17 in /usr/local/lib/python3.7/dist-packages (from requests) (2020.12.5)\n",
            "Requirement already satisfied: idna<2.9,>=2.5 in /usr/local/lib/python3.7/dist-packages (from requests) (2.8)\n",
            "Requirement already satisfied: chardet<3.1.0,>=3.0.2 in /usr/local/lib/python3.7/dist-packages (from requests) (3.0.4)\n",
            "Requirement already satisfied: urllib3!=1.25.0,!=1.25.1,<1.26,>=1.21.1 in /usr/local/lib/python3.7/dist-packages (from requests) (1.24.3)\n"
          ],
          "name": "stdout"
        }
      ]
    },
    {
      "cell_type": "code",
      "metadata": {
        "id": "tSwg1iFRfgj0"
      },
      "source": [
        "import datetime\n",
        "import requests\n",
        "from bs4 import BeautifulSoup\n",
        "import pandas as pd\n",
        "import seaborn as sns"
      ],
      "execution_count": 3,
      "outputs": []
    },
    {
      "cell_type": "code",
      "metadata": {
        "id": "1I-kdUu7_sEu"
      },
      "source": [
        "\n",
        "start_date = datetime.date(2020, 1, 1)\n",
        "end_date = datetime.date(2020, 12, 31)\n",
        "delta = datetime.timedelta(days=1)\n",
        "l = []\n",
        "while start_date <= end_date:\n",
        "    # print(start_date.strftime(\"%b\"))\n",
        "    day = start_date.strftime(\"%d\")\n",
        "    month = start_date.strftime(\"%b\")\n",
        "    year =start_date.strftime(\"%Y\")\n",
        "    start_date += delta\n",
        "    a = (day+\"-\"+month+\"-\"+year)\n",
        "    url = f'https://agmarknet.gov.in/SearchCmmMkt.aspx?Tx_Commodity=24&Tx_State=UP&Tx_District=1&Tx_Market=0&DateFrom={a}&DateTo={a}&Fr_Date={a}&To_Date={a}&Tx_Trend=0&Tx_CommodityHead=Potato&Tx_StateHead=Uttar+Pradesh&Tx_DistrictHead=Agra&Tx_MarketHead=--Select--'\n",
        "    response  = requests.get(url).text\n",
        "    soup = BeautifulSoup(response , 'html.parser')\n",
        "    table = soup.find(\"table\" , class_ = \"tableagmark_new\")\n",
        "    \n",
        "    for t in table.find_all(\"tr\"):\n",
        "      m = []\n",
        "      for a in t.find_all(\"td\"):\n",
        "        # print(a.text.strip())\n",
        "        m.append(a.text.strip())\n",
        "      l.append(m)\n",
        "    \n"
      ],
      "execution_count": 4,
      "outputs": []
    },
    {
      "cell_type": "code",
      "metadata": {
        "id": "TKi-cjHBRADm"
      },
      "source": [
        "df = pd.DataFrame(l[1:],columns = ['Sl. no.','District Name', 'Market Name','Commodity','Variety','Grade','Min Price (Rs./Quintal)','Max Price (Rs./Quintal)','Modal Price (Rs./Quintal)','Price Date'])"
      ],
      "execution_count": 69,
      "outputs": []
    },
    {
      "cell_type": "code",
      "metadata": {
        "colab": {
          "base_uri": "https://localhost:8080/",
          "height": 195
        },
        "id": "pvYaxAR0eVxb",
        "outputId": "0ecd877a-4ba3-481f-f067-e8a0a49e346b"
      },
      "source": [
        "display(df.head())"
      ],
      "execution_count": 70,
      "outputs": [
        {
          "output_type": "display_data",
          "data": {
            "text/html": [
              "<div>\n",
              "<style scoped>\n",
              "    .dataframe tbody tr th:only-of-type {\n",
              "        vertical-align: middle;\n",
              "    }\n",
              "\n",
              "    .dataframe tbody tr th {\n",
              "        vertical-align: top;\n",
              "    }\n",
              "\n",
              "    .dataframe thead th {\n",
              "        text-align: right;\n",
              "    }\n",
              "</style>\n",
              "<table border=\"1\" class=\"dataframe\">\n",
              "  <thead>\n",
              "    <tr style=\"text-align: right;\">\n",
              "      <th></th>\n",
              "      <th>Sl. no.</th>\n",
              "      <th>District Name</th>\n",
              "      <th>Market Name</th>\n",
              "      <th>Commodity</th>\n",
              "      <th>Variety</th>\n",
              "      <th>Grade</th>\n",
              "      <th>Min Price (Rs./Quintal)</th>\n",
              "      <th>Max Price (Rs./Quintal)</th>\n",
              "      <th>Modal Price (Rs./Quintal)</th>\n",
              "      <th>Price Date</th>\n",
              "    </tr>\n",
              "  </thead>\n",
              "  <tbody>\n",
              "    <tr>\n",
              "      <th>0</th>\n",
              "      <td>1</td>\n",
              "      <td>Agra</td>\n",
              "      <td>Achnera</td>\n",
              "      <td>Potato</td>\n",
              "      <td>Desi</td>\n",
              "      <td>FAQ</td>\n",
              "      <td>1300</td>\n",
              "      <td>1400</td>\n",
              "      <td>1350</td>\n",
              "      <td>01 Jan 2020</td>\n",
              "    </tr>\n",
              "    <tr>\n",
              "      <th>1</th>\n",
              "      <td>2</td>\n",
              "      <td>Agra</td>\n",
              "      <td>Fatehpur Sikri</td>\n",
              "      <td>Potato</td>\n",
              "      <td>Local</td>\n",
              "      <td>FAQ</td>\n",
              "      <td>1400</td>\n",
              "      <td>1520</td>\n",
              "      <td>1455</td>\n",
              "      <td>01 Jan 2020</td>\n",
              "    </tr>\n",
              "    <tr>\n",
              "      <th>2</th>\n",
              "      <td>3</td>\n",
              "      <td>Agra</td>\n",
              "      <td>Jagnair</td>\n",
              "      <td>Potato</td>\n",
              "      <td>Desi</td>\n",
              "      <td>FAQ</td>\n",
              "      <td>1250</td>\n",
              "      <td>1350</td>\n",
              "      <td>1300</td>\n",
              "      <td>01 Jan 2020</td>\n",
              "    </tr>\n",
              "    <tr>\n",
              "      <th>3</th>\n",
              "      <td>4</td>\n",
              "      <td>Agra</td>\n",
              "      <td>Jarar</td>\n",
              "      <td>Potato</td>\n",
              "      <td>Desi</td>\n",
              "      <td>FAQ</td>\n",
              "      <td>1200</td>\n",
              "      <td>1300</td>\n",
              "      <td>1250</td>\n",
              "      <td>01 Jan 2020</td>\n",
              "    </tr>\n",
              "    <tr>\n",
              "      <th>4</th>\n",
              "      <td>5</td>\n",
              "      <td>Agra</td>\n",
              "      <td>Khairagarh</td>\n",
              "      <td>Potato</td>\n",
              "      <td>Desi</td>\n",
              "      <td>FAQ</td>\n",
              "      <td>1200</td>\n",
              "      <td>1300</td>\n",
              "      <td>1250</td>\n",
              "      <td>01 Jan 2020</td>\n",
              "    </tr>\n",
              "  </tbody>\n",
              "</table>\n",
              "</div>"
            ],
            "text/plain": [
              "  Sl. no. District Name  ... Modal Price (Rs./Quintal)   Price Date\n",
              "0       1          Agra  ...                      1350  01 Jan 2020\n",
              "1       2          Agra  ...                      1455  01 Jan 2020\n",
              "2       3          Agra  ...                      1300  01 Jan 2020\n",
              "3       4          Agra  ...                      1250  01 Jan 2020\n",
              "4       5          Agra  ...                      1250  01 Jan 2020\n",
              "\n",
              "[5 rows x 10 columns]"
            ]
          },
          "metadata": {
            "tags": []
          }
        }
      ]
    },
    {
      "cell_type": "code",
      "metadata": {
        "id": "ztSo3dR6eXiJ"
      },
      "source": [
        "df = df.dropna(subset = [\"District Name\"], inplace=False)"
      ],
      "execution_count": 71,
      "outputs": []
    },
    {
      "cell_type": "code",
      "metadata": {
        "colab": {
          "base_uri": "https://localhost:8080/",
          "height": 195
        },
        "id": "SLA-V4Frkcho",
        "outputId": "8669f160-73ea-4f8a-f21f-8b89c910bd76"
      },
      "source": [
        "df = df.reset_index(drop=True)\n",
        "display(df.head())"
      ],
      "execution_count": 72,
      "outputs": [
        {
          "output_type": "display_data",
          "data": {
            "text/html": [
              "<div>\n",
              "<style scoped>\n",
              "    .dataframe tbody tr th:only-of-type {\n",
              "        vertical-align: middle;\n",
              "    }\n",
              "\n",
              "    .dataframe tbody tr th {\n",
              "        vertical-align: top;\n",
              "    }\n",
              "\n",
              "    .dataframe thead th {\n",
              "        text-align: right;\n",
              "    }\n",
              "</style>\n",
              "<table border=\"1\" class=\"dataframe\">\n",
              "  <thead>\n",
              "    <tr style=\"text-align: right;\">\n",
              "      <th></th>\n",
              "      <th>Sl. no.</th>\n",
              "      <th>District Name</th>\n",
              "      <th>Market Name</th>\n",
              "      <th>Commodity</th>\n",
              "      <th>Variety</th>\n",
              "      <th>Grade</th>\n",
              "      <th>Min Price (Rs./Quintal)</th>\n",
              "      <th>Max Price (Rs./Quintal)</th>\n",
              "      <th>Modal Price (Rs./Quintal)</th>\n",
              "      <th>Price Date</th>\n",
              "    </tr>\n",
              "  </thead>\n",
              "  <tbody>\n",
              "    <tr>\n",
              "      <th>0</th>\n",
              "      <td>1</td>\n",
              "      <td>Agra</td>\n",
              "      <td>Achnera</td>\n",
              "      <td>Potato</td>\n",
              "      <td>Desi</td>\n",
              "      <td>FAQ</td>\n",
              "      <td>1300</td>\n",
              "      <td>1400</td>\n",
              "      <td>1350</td>\n",
              "      <td>01 Jan 2020</td>\n",
              "    </tr>\n",
              "    <tr>\n",
              "      <th>1</th>\n",
              "      <td>2</td>\n",
              "      <td>Agra</td>\n",
              "      <td>Fatehpur Sikri</td>\n",
              "      <td>Potato</td>\n",
              "      <td>Local</td>\n",
              "      <td>FAQ</td>\n",
              "      <td>1400</td>\n",
              "      <td>1520</td>\n",
              "      <td>1455</td>\n",
              "      <td>01 Jan 2020</td>\n",
              "    </tr>\n",
              "    <tr>\n",
              "      <th>2</th>\n",
              "      <td>3</td>\n",
              "      <td>Agra</td>\n",
              "      <td>Jagnair</td>\n",
              "      <td>Potato</td>\n",
              "      <td>Desi</td>\n",
              "      <td>FAQ</td>\n",
              "      <td>1250</td>\n",
              "      <td>1350</td>\n",
              "      <td>1300</td>\n",
              "      <td>01 Jan 2020</td>\n",
              "    </tr>\n",
              "    <tr>\n",
              "      <th>3</th>\n",
              "      <td>4</td>\n",
              "      <td>Agra</td>\n",
              "      <td>Jarar</td>\n",
              "      <td>Potato</td>\n",
              "      <td>Desi</td>\n",
              "      <td>FAQ</td>\n",
              "      <td>1200</td>\n",
              "      <td>1300</td>\n",
              "      <td>1250</td>\n",
              "      <td>01 Jan 2020</td>\n",
              "    </tr>\n",
              "    <tr>\n",
              "      <th>4</th>\n",
              "      <td>5</td>\n",
              "      <td>Agra</td>\n",
              "      <td>Khairagarh</td>\n",
              "      <td>Potato</td>\n",
              "      <td>Desi</td>\n",
              "      <td>FAQ</td>\n",
              "      <td>1200</td>\n",
              "      <td>1300</td>\n",
              "      <td>1250</td>\n",
              "      <td>01 Jan 2020</td>\n",
              "    </tr>\n",
              "  </tbody>\n",
              "</table>\n",
              "</div>"
            ],
            "text/plain": [
              "  Sl. no. District Name  ... Modal Price (Rs./Quintal)   Price Date\n",
              "0       1          Agra  ...                      1350  01 Jan 2020\n",
              "1       2          Agra  ...                      1455  01 Jan 2020\n",
              "2       3          Agra  ...                      1300  01 Jan 2020\n",
              "3       4          Agra  ...                      1250  01 Jan 2020\n",
              "4       5          Agra  ...                      1250  01 Jan 2020\n",
              "\n",
              "[5 rows x 10 columns]"
            ]
          },
          "metadata": {
            "tags": []
          }
        }
      ]
    },
    {
      "cell_type": "code",
      "metadata": {
        "colab": {
          "base_uri": "https://localhost:8080/"
        },
        "id": "oAcp2zhpkeR7",
        "outputId": "180cfaaa-9e98-4cf4-ba92-9dea82cbc159"
      },
      "source": [
        "df['Market Name'].unique()"
      ],
      "execution_count": 73,
      "outputs": [
        {
          "output_type": "execute_result",
          "data": {
            "text/plain": [
              "array(['Achnera', 'Fatehpur Sikri', 'Jagnair', 'Jarar', 'Khairagarh',\n",
              "       'Samsabad', 'Agra', 'Fatehabad'], dtype=object)"
            ]
          },
          "metadata": {
            "tags": []
          },
          "execution_count": 73
        }
      ]
    },
    {
      "cell_type": "code",
      "metadata": {
        "colab": {
          "base_uri": "https://localhost:8080/"
        },
        "id": "r1V2Lf-wvvHD",
        "outputId": "5cae5997-1eed-4349-c806-e3305fbafe30"
      },
      "source": [
        "df['Market Name'].value_counts()"
      ],
      "execution_count": 76,
      "outputs": [
        {
          "output_type": "execute_result",
          "data": {
            "text/plain": [
              "Achnera           306\n",
              "Fatehpur Sikri    290\n",
              "Agra              285\n",
              "Fatehabad         258\n",
              "Jagnair           187\n",
              "Khairagarh        187\n",
              "Samsabad          168\n",
              "Jarar             146\n",
              "Name: Market Name, dtype: int64"
            ]
          },
          "metadata": {
            "tags": []
          },
          "execution_count": 76
        }
      ]
    },
    {
      "cell_type": "code",
      "metadata": {
        "colab": {
          "base_uri": "https://localhost:8080/",
          "height": 296
        },
        "id": "NB0TN-RBofoD",
        "outputId": "fbad9ec7-70d9-4e2b-89bd-bf48603bbb76"
      },
      "source": [
        "date = []\n",
        "month = []\n",
        "year = []\n",
        "ddmmyyyy = []\n",
        "for i in range(1827):\n",
        "  date.append(df['Price Date'][i][:2])\n",
        "  a = df['Price Date'][i][:2]\n",
        "  month_name = df['Price Date'][i][3:6]\n",
        "  datetime_object = datetime.datetime.strptime(month_name, \"%b\")\n",
        "  month.append(datetime_object.month)\n",
        "  b = datetime_object.month\n",
        "  year.append(df['Price Date'][i][7:])\n",
        "  c = df['Price Date'][i][7:]\n",
        "  ddmmyyyy.append(f'{a}-{b}-{c}')\n",
        "df['date'] = date\n",
        "df['month'] = month\n",
        "df['year'] = year\n",
        "df['dd/mm/yyyy'] = ddmmyyyy\n",
        "display(df.head())"
      ],
      "execution_count": 83,
      "outputs": [
        {
          "output_type": "display_data",
          "data": {
            "text/html": [
              "<div>\n",
              "<style scoped>\n",
              "    .dataframe tbody tr th:only-of-type {\n",
              "        vertical-align: middle;\n",
              "    }\n",
              "\n",
              "    .dataframe tbody tr th {\n",
              "        vertical-align: top;\n",
              "    }\n",
              "\n",
              "    .dataframe thead th {\n",
              "        text-align: right;\n",
              "    }\n",
              "</style>\n",
              "<table border=\"1\" class=\"dataframe\">\n",
              "  <thead>\n",
              "    <tr style=\"text-align: right;\">\n",
              "      <th></th>\n",
              "      <th>Sl. no.</th>\n",
              "      <th>District Name</th>\n",
              "      <th>Market Name</th>\n",
              "      <th>Commodity</th>\n",
              "      <th>Variety</th>\n",
              "      <th>Grade</th>\n",
              "      <th>Min Price (Rs./Quintal)</th>\n",
              "      <th>Max Price (Rs./Quintal)</th>\n",
              "      <th>Modal Price (Rs./Quintal)</th>\n",
              "      <th>Price Date</th>\n",
              "      <th>date</th>\n",
              "      <th>month</th>\n",
              "      <th>year</th>\n",
              "      <th>dd/mm/yyyy</th>\n",
              "    </tr>\n",
              "  </thead>\n",
              "  <tbody>\n",
              "    <tr>\n",
              "      <th>0</th>\n",
              "      <td>1</td>\n",
              "      <td>Agra</td>\n",
              "      <td>Achnera</td>\n",
              "      <td>Potato</td>\n",
              "      <td>Desi</td>\n",
              "      <td>FAQ</td>\n",
              "      <td>1300</td>\n",
              "      <td>1400</td>\n",
              "      <td>1350</td>\n",
              "      <td>01 Jan 2020</td>\n",
              "      <td>01</td>\n",
              "      <td>1</td>\n",
              "      <td>2020</td>\n",
              "      <td>01-1-2020</td>\n",
              "    </tr>\n",
              "    <tr>\n",
              "      <th>1</th>\n",
              "      <td>2</td>\n",
              "      <td>Agra</td>\n",
              "      <td>Fatehpur Sikri</td>\n",
              "      <td>Potato</td>\n",
              "      <td>Local</td>\n",
              "      <td>FAQ</td>\n",
              "      <td>1400</td>\n",
              "      <td>1520</td>\n",
              "      <td>1455</td>\n",
              "      <td>01 Jan 2020</td>\n",
              "      <td>01</td>\n",
              "      <td>1</td>\n",
              "      <td>2020</td>\n",
              "      <td>01-1-2020</td>\n",
              "    </tr>\n",
              "    <tr>\n",
              "      <th>2</th>\n",
              "      <td>3</td>\n",
              "      <td>Agra</td>\n",
              "      <td>Jagnair</td>\n",
              "      <td>Potato</td>\n",
              "      <td>Desi</td>\n",
              "      <td>FAQ</td>\n",
              "      <td>1250</td>\n",
              "      <td>1350</td>\n",
              "      <td>1300</td>\n",
              "      <td>01 Jan 2020</td>\n",
              "      <td>01</td>\n",
              "      <td>1</td>\n",
              "      <td>2020</td>\n",
              "      <td>01-1-2020</td>\n",
              "    </tr>\n",
              "    <tr>\n",
              "      <th>3</th>\n",
              "      <td>4</td>\n",
              "      <td>Agra</td>\n",
              "      <td>Jarar</td>\n",
              "      <td>Potato</td>\n",
              "      <td>Desi</td>\n",
              "      <td>FAQ</td>\n",
              "      <td>1200</td>\n",
              "      <td>1300</td>\n",
              "      <td>1250</td>\n",
              "      <td>01 Jan 2020</td>\n",
              "      <td>01</td>\n",
              "      <td>1</td>\n",
              "      <td>2020</td>\n",
              "      <td>01-1-2020</td>\n",
              "    </tr>\n",
              "    <tr>\n",
              "      <th>4</th>\n",
              "      <td>5</td>\n",
              "      <td>Agra</td>\n",
              "      <td>Khairagarh</td>\n",
              "      <td>Potato</td>\n",
              "      <td>Desi</td>\n",
              "      <td>FAQ</td>\n",
              "      <td>1200</td>\n",
              "      <td>1300</td>\n",
              "      <td>1250</td>\n",
              "      <td>01 Jan 2020</td>\n",
              "      <td>01</td>\n",
              "      <td>1</td>\n",
              "      <td>2020</td>\n",
              "      <td>01-1-2020</td>\n",
              "    </tr>\n",
              "  </tbody>\n",
              "</table>\n",
              "</div>"
            ],
            "text/plain": [
              "  Sl. no. District Name     Market Name Commodity  ... date month  year dd/mm/yyyy\n",
              "0       1          Agra         Achnera    Potato  ...   01     1  2020  01-1-2020\n",
              "1       2          Agra  Fatehpur Sikri    Potato  ...   01     1  2020  01-1-2020\n",
              "2       3          Agra         Jagnair    Potato  ...   01     1  2020  01-1-2020\n",
              "3       4          Agra           Jarar    Potato  ...   01     1  2020  01-1-2020\n",
              "4       5          Agra      Khairagarh    Potato  ...   01     1  2020  01-1-2020\n",
              "\n",
              "[5 rows x 14 columns]"
            ]
          },
          "metadata": {
            "tags": []
          }
        }
      ]
    },
    {
      "cell_type": "code",
      "metadata": {
        "colab": {
          "base_uri": "https://localhost:8080/",
          "height": 296
        },
        "id": "hTDTsxHLouXg",
        "outputId": "fb58f95f-2383-4fc3-916e-47cd611990f7"
      },
      "source": [
        "# display(df)\n",
        "df['dd/mm/yyyy'] = pd.to_datetime(df['dd/mm/yyyy'], format='%d-%m-%Y')\n",
        "display(df.head())"
      ],
      "execution_count": 103,
      "outputs": [
        {
          "output_type": "display_data",
          "data": {
            "text/html": [
              "<div>\n",
              "<style scoped>\n",
              "    .dataframe tbody tr th:only-of-type {\n",
              "        vertical-align: middle;\n",
              "    }\n",
              "\n",
              "    .dataframe tbody tr th {\n",
              "        vertical-align: top;\n",
              "    }\n",
              "\n",
              "    .dataframe thead th {\n",
              "        text-align: right;\n",
              "    }\n",
              "</style>\n",
              "<table border=\"1\" class=\"dataframe\">\n",
              "  <thead>\n",
              "    <tr style=\"text-align: right;\">\n",
              "      <th></th>\n",
              "      <th>Sl. no.</th>\n",
              "      <th>District Name</th>\n",
              "      <th>Market Name</th>\n",
              "      <th>Commodity</th>\n",
              "      <th>Variety</th>\n",
              "      <th>Grade</th>\n",
              "      <th>Min Price (Rs./Quintal)</th>\n",
              "      <th>Max Price (Rs./Quintal)</th>\n",
              "      <th>Modal Price (Rs./Quintal)</th>\n",
              "      <th>Price Date</th>\n",
              "      <th>date</th>\n",
              "      <th>month</th>\n",
              "      <th>year</th>\n",
              "      <th>dd/mm/yyyy</th>\n",
              "    </tr>\n",
              "  </thead>\n",
              "  <tbody>\n",
              "    <tr>\n",
              "      <th>0</th>\n",
              "      <td>1</td>\n",
              "      <td>Agra</td>\n",
              "      <td>Achnera</td>\n",
              "      <td>Potato</td>\n",
              "      <td>Desi</td>\n",
              "      <td>FAQ</td>\n",
              "      <td>1300</td>\n",
              "      <td>1400</td>\n",
              "      <td>1350</td>\n",
              "      <td>01 Jan 2020</td>\n",
              "      <td>01</td>\n",
              "      <td>1</td>\n",
              "      <td>2020</td>\n",
              "      <td>2020-01-01</td>\n",
              "    </tr>\n",
              "    <tr>\n",
              "      <th>1</th>\n",
              "      <td>2</td>\n",
              "      <td>Agra</td>\n",
              "      <td>Fatehpur Sikri</td>\n",
              "      <td>Potato</td>\n",
              "      <td>Local</td>\n",
              "      <td>FAQ</td>\n",
              "      <td>1400</td>\n",
              "      <td>1520</td>\n",
              "      <td>1455</td>\n",
              "      <td>01 Jan 2020</td>\n",
              "      <td>01</td>\n",
              "      <td>1</td>\n",
              "      <td>2020</td>\n",
              "      <td>2020-01-01</td>\n",
              "    </tr>\n",
              "    <tr>\n",
              "      <th>2</th>\n",
              "      <td>3</td>\n",
              "      <td>Agra</td>\n",
              "      <td>Jagnair</td>\n",
              "      <td>Potato</td>\n",
              "      <td>Desi</td>\n",
              "      <td>FAQ</td>\n",
              "      <td>1250</td>\n",
              "      <td>1350</td>\n",
              "      <td>1300</td>\n",
              "      <td>01 Jan 2020</td>\n",
              "      <td>01</td>\n",
              "      <td>1</td>\n",
              "      <td>2020</td>\n",
              "      <td>2020-01-01</td>\n",
              "    </tr>\n",
              "    <tr>\n",
              "      <th>3</th>\n",
              "      <td>4</td>\n",
              "      <td>Agra</td>\n",
              "      <td>Jarar</td>\n",
              "      <td>Potato</td>\n",
              "      <td>Desi</td>\n",
              "      <td>FAQ</td>\n",
              "      <td>1200</td>\n",
              "      <td>1300</td>\n",
              "      <td>1250</td>\n",
              "      <td>01 Jan 2020</td>\n",
              "      <td>01</td>\n",
              "      <td>1</td>\n",
              "      <td>2020</td>\n",
              "      <td>2020-01-01</td>\n",
              "    </tr>\n",
              "    <tr>\n",
              "      <th>4</th>\n",
              "      <td>5</td>\n",
              "      <td>Agra</td>\n",
              "      <td>Khairagarh</td>\n",
              "      <td>Potato</td>\n",
              "      <td>Desi</td>\n",
              "      <td>FAQ</td>\n",
              "      <td>1200</td>\n",
              "      <td>1300</td>\n",
              "      <td>1250</td>\n",
              "      <td>01 Jan 2020</td>\n",
              "      <td>01</td>\n",
              "      <td>1</td>\n",
              "      <td>2020</td>\n",
              "      <td>2020-01-01</td>\n",
              "    </tr>\n",
              "  </tbody>\n",
              "</table>\n",
              "</div>"
            ],
            "text/plain": [
              "  Sl. no. District Name     Market Name Commodity  ... date month  year dd/mm/yyyy\n",
              "0       1          Agra         Achnera    Potato  ...   01     1  2020 2020-01-01\n",
              "1       2          Agra  Fatehpur Sikri    Potato  ...   01     1  2020 2020-01-01\n",
              "2       3          Agra         Jagnair    Potato  ...   01     1  2020 2020-01-01\n",
              "3       4          Agra           Jarar    Potato  ...   01     1  2020 2020-01-01\n",
              "4       5          Agra      Khairagarh    Potato  ...   01     1  2020 2020-01-01\n",
              "\n",
              "[5 rows x 14 columns]"
            ]
          },
          "metadata": {
            "tags": []
          }
        }
      ]
    },
    {
      "cell_type": "code",
      "metadata": {
        "id": "7KksOuhi1AKz"
      },
      "source": [
        "Achnera = df[df['Market Name']==\"Achnera\"].reset_index()\n",
        "Fatehpur_Sikri = df[df['Market Name']==\"Fatehpur Sikri\"].reset_index()\n",
        "Agra = df[df['Market Name']==\"Agra\"].reset_index()\n",
        "Fatehabad = df[df['Market Name']==\"Fatehabad\"].reset_index()\n",
        "Khairagarh = df[df['Market Name']==\"Khairagarh\"].reset_index()\n",
        "Jagnair = df[df['Market Name']==\"Jagnair\"].reset_index()\n",
        "Samsabad = df[df['Market Name']==\"Samsabad\"].reset_index()\n",
        "Jarar = df[df['Market Name']==\"Jarar\"].reset_index()"
      ],
      "execution_count": 125,
      "outputs": []
    },
    {
      "cell_type": "code",
      "metadata": {
        "colab": {
          "base_uri": "https://localhost:8080/",
          "height": 296
        },
        "id": "tUHUMZk71Jga",
        "outputId": "575a9803-2f85-4530-f488-52adf9f75944"
      },
      "source": [
        "sns.lineplot(x=df['dd/mm/yyyy'], y=df['Modal Price (Rs./Quintal)'].rolling(10).mean(),palette=\"tab10\", linewidth=1,hue =df['Market Name'] )"
      ],
      "execution_count": 131,
      "outputs": [
        {
          "output_type": "execute_result",
          "data": {
            "text/plain": [
              "<matplotlib.axes._subplots.AxesSubplot at 0x7f29c648d5d0>"
            ]
          },
          "metadata": {
            "tags": []
          },
          "execution_count": 131
        },
        {
          "output_type": "display_data",
          "data": {
            "image/png": "[encoded data removed]",
            "text/plain": [
              "<Figure size 432x288 with 1 Axes>"
            ]
          },
          "metadata": {
            "tags": [],
            "needs_background": "light"
          }
        }
      ]
    },
    {
      "cell_type": "code",
      "metadata": {
        "colab": {
          "base_uri": "https://localhost:8080/",
          "height": 299
        },
        "id": "NYvRavsTxluB",
        "outputId": "c06ec81c-5cc3-4f53-a275-20ccbdf0d363"
      },
      "source": [
        "sns.lineplot(x = Achnera['dd/mm/yyyy'], y = Achnera['Modal Price (Rs./Quintal)'].rolling(20).mean(),palette=\"tab10\", linewidth=2.5)\n",
        "sns.lineplot(x = Fatehpur_Sikri['dd/mm/yyyy'],y= Fatehpur_Sikri['Modal Price (Rs./Quintal)'].rolling(20).mean(),palette=\"tab10\", linewidth=2.5)\n",
        "sns.lineplot(x= Agra['dd/mm/yyyy'], y=Agra['Modal Price (Rs./Quintal)'].rolling(20).mean(),palette=\"tab10\", linewidth=2.5)\n",
        "sns.lineplot(x=Fatehabad['dd/mm/yyyy'], y=Fatehabad['Modal Price (Rs./Quintal)'].rolling(20).mean(),palette=\"tab10\", linewidth=2.5)\n",
        "# sns.lineplot(x=Khairagarh['dd/mm/yyyy'], y=Khairagarh['Modal Price (Rs./Quintal)'].rolling(20).mean(),palette=\"tab10\", linewidth=2.5,hue=af['Market Name'])\n",
        "# sns.lineplot(x=Jagnair['dd/mm/yyyy'], y=Jagnair['Modal Price (Rs./Quintal)'].rolling(20).mean(),palette=\"tab10\", linewidth=2.5,hue=af['Market Name'])\n",
        "# sns.lineplot(x=Samsabad['dd/mm/yyyy'], y=Samsabad['Modal Price (Rs./Quintal)'].rolling(20).mean(),palette=\"tab10\", linewidth=2.5,hue=af['Market Name'])\n",
        "# sns.lineplot(x=Jarar['dd/mm/yyyy'], y=Jarar['Modal Price (Rs./Quintal)'].rolling(20).mean(),palette=\"tab10\", linewidth=2.5,hue=af['Market Name'])"
      ],
      "execution_count": 126,
      "outputs": [
        {
          "output_type": "execute_result",
          "data": {
            "text/plain": [
              "<matplotlib.axes._subplots.AxesSubplot at 0x7f29c66e2a10>"
            ]
          },
          "metadata": {
            "tags": []
          },
          "execution_count": 126
        },
        {
          "output_type": "display_data",
          "data": {
            "image/png": "[encoded data removed]",
            "text/plain": [
              "<Figure size 432x288 with 1 Axes>"
            ]
          },
          "metadata": {
            "tags": [],
            "needs_background": "light"
          }
        }
      ]
    }
  ]
}